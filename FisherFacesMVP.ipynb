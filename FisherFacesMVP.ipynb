{
 "cells": [
  {
   "cell_type": "code",
   "execution_count": 1,
   "metadata": {},
   "outputs": [],
   "source": [
    "import pandas as pd\n",
    "import numpy as np"
   ]
  },
  {
   "cell_type": "code",
   "execution_count": 4,
   "metadata": {},
   "outputs": [],
   "source": [
    "grayfaces_test = pd.read_csv('/Users/xavieryn/GitHub/QEAFinalProject/OlinDataSet/grayfaces_test.csv', header=None)\n",
    "grayfaces_train = pd.read_csv('/Users/xavieryn/GitHub/QEAFinalProject/OlinDataSet/grayfaces_train.csv', header=None)\n",
    "subject_test = pd.read_csv('/Users/xavieryn/GitHub/QEAFinalProject/OlinDataSet/subject_test.csv', header=None)\n",
    "subject_train = pd.read_csv('/Users/xavieryn/GitHub/QEAFinalProject/OlinDataSet/subject_train.csv', header=None)"
   ]
  },
  {
   "cell_type": "code",
   "execution_count": null,
   "metadata": {},
   "outputs": [
    {
     "data": {
      "text/html": [
       "<div>\n",
       "<style scoped>\n",
       "    .dataframe tbody tr th:only-of-type {\n",
       "        vertical-align: middle;\n",
       "    }\n",
       "\n",
       "    .dataframe tbody tr th {\n",
       "        vertical-align: top;\n",
       "    }\n",
       "\n",
       "    .dataframe thead th {\n",
       "        text-align: right;\n",
       "    }\n",
       "</style>\n",
       "<table border=\"1\" class=\"dataframe\">\n",
       "  <thead>\n",
       "    <tr style=\"text-align: right;\">\n",
       "      <th></th>\n",
       "      <th>0</th>\n",
       "      <th>1</th>\n",
       "      <th>2</th>\n",
       "      <th>3</th>\n",
       "      <th>4</th>\n",
       "      <th>5</th>\n",
       "      <th>6</th>\n",
       "      <th>7</th>\n",
       "      <th>8</th>\n",
       "      <th>9</th>\n",
       "      <th>...</th>\n",
       "      <th>346</th>\n",
       "      <th>347</th>\n",
       "      <th>348</th>\n",
       "      <th>349</th>\n",
       "      <th>350</th>\n",
       "      <th>351</th>\n",
       "      <th>352</th>\n",
       "      <th>353</th>\n",
       "      <th>354</th>\n",
       "      <th>355</th>\n",
       "    </tr>\n",
       "  </thead>\n",
       "  <tbody>\n",
       "    <tr>\n",
       "      <th>0</th>\n",
       "      <td>234.23</td>\n",
       "      <td>233.29</td>\n",
       "      <td>233.20</td>\n",
       "      <td>232.99</td>\n",
       "      <td>231.20</td>\n",
       "      <td>231.29</td>\n",
       "      <td>230.02</td>\n",
       "      <td>230.00</td>\n",
       "      <td>240.07</td>\n",
       "      <td>241.12</td>\n",
       "      <td>...</td>\n",
       "      <td>233.98</td>\n",
       "      <td>233.01</td>\n",
       "      <td>235.39</td>\n",
       "      <td>235.33</td>\n",
       "      <td>240.64</td>\n",
       "      <td>242.54</td>\n",
       "      <td>219.85</td>\n",
       "      <td>220.80</td>\n",
       "      <td>225.01</td>\n",
       "      <td>226.00</td>\n",
       "    </tr>\n",
       "    <tr>\n",
       "      <th>1</th>\n",
       "      <td>233.66</td>\n",
       "      <td>233.04</td>\n",
       "      <td>233.68</td>\n",
       "      <td>232.92</td>\n",
       "      <td>230.95</td>\n",
       "      <td>230.13</td>\n",
       "      <td>230.03</td>\n",
       "      <td>230.01</td>\n",
       "      <td>239.07</td>\n",
       "      <td>240.40</td>\n",
       "      <td>...</td>\n",
       "      <td>233.53</td>\n",
       "      <td>232.05</td>\n",
       "      <td>234.26</td>\n",
       "      <td>235.74</td>\n",
       "      <td>242.42</td>\n",
       "      <td>241.88</td>\n",
       "      <td>220.24</td>\n",
       "      <td>219.94</td>\n",
       "      <td>224.95</td>\n",
       "      <td>226.00</td>\n",
       "    </tr>\n",
       "    <tr>\n",
       "      <th>2</th>\n",
       "      <td>232.98</td>\n",
       "      <td>232.61</td>\n",
       "      <td>234.08</td>\n",
       "      <td>233.14</td>\n",
       "      <td>230.32</td>\n",
       "      <td>229.18</td>\n",
       "      <td>229.92</td>\n",
       "      <td>230.07</td>\n",
       "      <td>238.85</td>\n",
       "      <td>239.49</td>\n",
       "      <td>...</td>\n",
       "      <td>232.13</td>\n",
       "      <td>231.37</td>\n",
       "      <td>229.16</td>\n",
       "      <td>228.35</td>\n",
       "      <td>245.61</td>\n",
       "      <td>240.48</td>\n",
       "      <td>219.16</td>\n",
       "      <td>219.77</td>\n",
       "      <td>224.15</td>\n",
       "      <td>226.01</td>\n",
       "    </tr>\n",
       "    <tr>\n",
       "      <th>3</th>\n",
       "      <td>233.02</td>\n",
       "      <td>232.79</td>\n",
       "      <td>233.27</td>\n",
       "      <td>233.87</td>\n",
       "      <td>230.15</td>\n",
       "      <td>229.98</td>\n",
       "      <td>228.44</td>\n",
       "      <td>228.26</td>\n",
       "      <td>238.43</td>\n",
       "      <td>238.89</td>\n",
       "      <td>...</td>\n",
       "      <td>229.26</td>\n",
       "      <td>230.25</td>\n",
       "      <td>218.43</td>\n",
       "      <td>217.96</td>\n",
       "      <td>233.96</td>\n",
       "      <td>242.58</td>\n",
       "      <td>215.04</td>\n",
       "      <td>218.99</td>\n",
       "      <td>223.26</td>\n",
       "      <td>225.88</td>\n",
       "    </tr>\n",
       "    <tr>\n",
       "      <th>4</th>\n",
       "      <td>233.02</td>\n",
       "      <td>232.88</td>\n",
       "      <td>232.98</td>\n",
       "      <td>233.04</td>\n",
       "      <td>229.21</td>\n",
       "      <td>228.05</td>\n",
       "      <td>227.98</td>\n",
       "      <td>226.91</td>\n",
       "      <td>237.69</td>\n",
       "      <td>238.53</td>\n",
       "      <td>...</td>\n",
       "      <td>217.06</td>\n",
       "      <td>216.68</td>\n",
       "      <td>157.69</td>\n",
       "      <td>155.67</td>\n",
       "      <td>176.98</td>\n",
       "      <td>242.39</td>\n",
       "      <td>205.41</td>\n",
       "      <td>218.14</td>\n",
       "      <td>223.15</td>\n",
       "      <td>225.44</td>\n",
       "    </tr>\n",
       "  </tbody>\n",
       "</table>\n",
       "<p>5 rows × 356 columns</p>\n",
       "</div>"
      ],
      "text/plain": [
       "      0       1       2       3       4       5       6       7       8    \\\n",
       "0  234.23  233.29  233.20  232.99  231.20  231.29  230.02  230.00  240.07   \n",
       "1  233.66  233.04  233.68  232.92  230.95  230.13  230.03  230.01  239.07   \n",
       "2  232.98  232.61  234.08  233.14  230.32  229.18  229.92  230.07  238.85   \n",
       "3  233.02  232.79  233.27  233.87  230.15  229.98  228.44  228.26  238.43   \n",
       "4  233.02  232.88  232.98  233.04  229.21  228.05  227.98  226.91  237.69   \n",
       "\n",
       "      9    ...     346     347     348     349     350     351     352  \\\n",
       "0  241.12  ...  233.98  233.01  235.39  235.33  240.64  242.54  219.85   \n",
       "1  240.40  ...  233.53  232.05  234.26  235.74  242.42  241.88  220.24   \n",
       "2  239.49  ...  232.13  231.37  229.16  228.35  245.61  240.48  219.16   \n",
       "3  238.89  ...  229.26  230.25  218.43  217.96  233.96  242.58  215.04   \n",
       "4  238.53  ...  217.06  216.68  157.69  155.67  176.98  242.39  205.41   \n",
       "\n",
       "      353     354     355  \n",
       "0  220.80  225.01  226.00  \n",
       "1  219.94  224.95  226.00  \n",
       "2  219.77  224.15  226.01  \n",
       "3  218.99  223.26  225.88  \n",
       "4  218.14  223.15  225.44  \n",
       "\n",
       "[5 rows x 356 columns]"
      ]
     },
     "execution_count": 5,
     "metadata": {},
     "output_type": "execute_result"
    }
   ],
   "source": [
    "grayfaces_train.head()"
   ]
  },
  {
   "cell_type": "code",
   "execution_count": 9,
   "metadata": {},
   "outputs": [
    {
     "data": {
      "text/plain": [
       "(4096, 356)"
      ]
     },
     "execution_count": 9,
     "metadata": {},
     "output_type": "execute_result"
    }
   ],
   "source": [
    "grayfaces_train.shape"
   ]
  },
  {
   "cell_type": "code",
   "execution_count": 10,
   "metadata": {},
   "outputs": [
    {
     "data": {
      "text/plain": [
       "np.float64(234.04)"
      ]
     },
     "execution_count": 10,
     "metadata": {},
     "output_type": "execute_result"
    }
   ],
   "source": [
    "grayfaces_train[0][0]"
   ]
  }
 ],
 "metadata": {
  "kernelspec": {
   "display_name": "QEAFinalProject",
   "language": "python",
   "name": "python3"
  },
  "language_info": {
   "codemirror_mode": {
    "name": "ipython",
    "version": 3
   },
   "file_extension": ".py",
   "mimetype": "text/x-python",
   "name": "python",
   "nbconvert_exporter": "python",
   "pygments_lexer": "ipython3",
   "version": "3.13.0"
  }
 },
 "nbformat": 4,
 "nbformat_minor": 2
}
